{
 "metadata": {
  "language_info": {
   "codemirror_mode": {
    "name": "ipython",
    "version": 3
   },
   "file_extension": ".py",
   "mimetype": "text/x-python",
   "name": "python",
   "nbconvert_exporter": "python",
   "pygments_lexer": "ipython3",
   "version": "3.8.8"
  },
  "orig_nbformat": 2,
  "kernelspec": {
   "name": "python3",
   "display_name": "Python 3.8.8 64-bit",
   "metadata": {
    "interpreter": {
     "hash": "81c9ce6f424bab3be15193d373dba91a7f66b24fa2517aa727c9dc1af5a190e3"
    }
   }
  }
 },
 "nbformat": 4,
 "nbformat_minor": 2,
 "cells": [
  {
   "source": [
    "## 2) How to create variable in python? "
   ],
   "cell_type": "markdown",
   "metadata": {}
  },
  {
   "cell_type": "code",
   "execution_count": 1,
   "metadata": {},
   "outputs": [],
   "source": [
    "a = 5"
   ]
  },
  {
   "source": [
    "## 3) How to take user input? "
   ],
   "cell_type": "markdown",
   "metadata": {}
  },
  {
   "cell_type": "code",
   "execution_count": 3,
   "metadata": {},
   "outputs": [
    {
     "output_type": "stream",
     "name": "stdout",
     "text": [
      "abc\n"
     ]
    }
   ],
   "source": [
    "var = input(\"Enter variable: \")\n",
    "print(var)"
   ]
  },
  {
   "source": [
    "## 4) How to check the type of variable dynamically."
   ],
   "cell_type": "markdown",
   "metadata": {}
  },
  {
   "cell_type": "code",
   "execution_count": 4,
   "metadata": {},
   "outputs": [
    {
     "output_type": "execute_result",
     "data": {
      "text/plain": [
       "str"
      ]
     },
     "metadata": {},
     "execution_count": 4
    }
   ],
   "source": [
    "type(var)"
   ]
  },
  {
   "source": [
    "## 5) W.A.P to find greater and less than number using If_else"
   ],
   "cell_type": "markdown",
   "metadata": {}
  },
  {
   "cell_type": "code",
   "execution_count": 7,
   "metadata": {},
   "outputs": [
    {
     "output_type": "stream",
     "name": "stdout",
     "text": [
      "Number b: 4 is greater than Number a: 2\n"
     ]
    }
   ],
   "source": [
    "a = int(input(\"Enter first number: \"))\n",
    "b = int(input(\"Enter second number: \"))\n",
    "\n",
    "if a > b:\n",
    "    print(f\"Number a: {a} is greater than Number b: {b}\")\n",
    "else:\n",
    "    print(f\"Number b: {b} is greater than Number a: {a}\")"
   ]
  },
  {
   "source": [
    "## 6) W.A.P to find prime number using if_else"
   ],
   "cell_type": "markdown",
   "metadata": {}
  },
  {
   "cell_type": "code",
   "execution_count": 15,
   "metadata": {},
   "outputs": [
    {
     "output_type": "stream",
     "name": "stdout",
     "text": [
      "3 is prime.\n"
     ]
    }
   ],
   "source": [
    "num = int(input(\"Enter number: \"))\n",
    "count = int(0)\n",
    "for i in range(1,num+1):\n",
    "    if num % i == 0:\n",
    "        count += 1\n",
    "if count == 2:\n",
    "    print(f\"{num} is prime.\")\n",
    "else:\n",
    "    print(f\"{num} is not prime.\")"
   ]
  },
  {
   "source": [
    "## 7) W.A.P to find the grade according to percentage using if_else ladder."
   ],
   "cell_type": "markdown",
   "metadata": {}
  },
  {
   "cell_type": "code",
   "execution_count": 17,
   "metadata": {},
   "outputs": [
    {
     "output_type": "stream",
     "name": "stdout",
     "text": [
      "Outstanding.\n"
     ]
    }
   ],
   "source": [
    "percent = float(input(\"Enter percentage: \"))\n",
    "\n",
    "if percent < 40:\n",
    "    print(\"Fail.\")\n",
    "elif percent > 40 and percent < 50:\n",
    "    print(\"Below Average.\")\n",
    "elif percent > 50 and percent < 60:\n",
    "    print(\"Third Class.\")\n",
    "elif percent > 60 and percent < 70:\n",
    "    print(\"Second Class.\")\n",
    "elif percent > 70 and percent < 80:\n",
    "    print(\"First Class.\")\n",
    "elif percent > 80 and percent < 90:\n",
    "    print(\"Distinction.\")\n",
    "else:\n",
    "    print(\"Outstanding.\")"
   ]
  },
  {
   "source": [
    "## 8) W.A.P to find that who can donate the blood using Nested if."
   ],
   "cell_type": "markdown",
   "metadata": {}
  },
  {
   "cell_type": "code",
   "execution_count": 18,
   "metadata": {},
   "outputs": [
    {
     "output_type": "stream",
     "name": "stdout",
     "text": [
      "AB+ can give blood to AB+ .\nAB+ can receive blood from everyone.\n"
     ]
    }
   ],
   "source": [
    "blood_group = input(\"Enter blood group: \")\n",
    "\n",
    "if blood_group == \"O\":\n",
    "    blood_type = input(\"Enter blood type(+/-): \")\n",
    "    if blood_type == '+':\n",
    "        print(blood_group + blood_type + \" can give blood to O+ A+ B+ AB+ .\")\n",
    "        print(blood_group + blood_type + \" can receive blood from O+ O- .\")\n",
    "    else:\n",
    "        print(blood_group + blood_type + \"can give blood to everyone.\")\n",
    "        print(blood_group + blood_type + \" can receive blood from O- .\")\n",
    "\n",
    "elif blood_group == \"A\":\n",
    "    blood_type = input(\"Enter blood type(+/-): \")\n",
    "    if blood_type == '+':\n",
    "        print(blood_group + blood_type + \" can give blood to A+ AB+ .\")\n",
    "        print(blood_group + blood_type + \" can receive blood from A+ A- O+ O- .\")\n",
    "    else:\n",
    "        print(blood_group + blood_type + \"can give blood to A+ A- AB+ AB-.\")\n",
    "        print(blood_group + blood_type + \" can receive blood from A- O- .\")\n",
    "\n",
    "elif blood_group == \"B\":\n",
    "    blood_type = input(\"Enter blood type(+/-): \")\n",
    "    if blood_type == '+':\n",
    "        print(blood_group + blood_type + \" can give blood to B+ AB+ .\")\n",
    "        print(blood_group + blood_type + \" can receive blood from B+ B- O+ O- .\")\n",
    "    else:\n",
    "        print(blood_group + blood_type + \"can give blood to B+ B- AB+ AB-.\")\n",
    "        print(blood_group + blood_type + \" can receive blood from B- O- .\")\n",
    "\n",
    "elif blood_group == \"AB\":\n",
    "    blood_type = input(\"Enter blood type(+/-): \")\n",
    "    if blood_type == '+':\n",
    "        print(blood_group + blood_type + \" can give blood to AB+ .\")\n",
    "        print(blood_group + blood_type + \" can receive blood from everyone.\")\n",
    "    else:\n",
    "        print(blood_group + blood_type + \"can give blood to AB+ AB-.\")\n",
    "        print(blood_group + blood_type + \" can receive blood from AB- A- B- O- .\")\n",
    "\n",
    "else:\n",
    "    print(\"Enter appropriate blood group.\")"
   ]
  },
  {
   "source": [
    "##  1) WAP to print each fruit in list using simple for loop. List1 (apple,banana,mango)"
   ],
   "cell_type": "markdown",
   "metadata": {}
  },
  {
   "cell_type": "code",
   "execution_count": 19,
   "metadata": {},
   "outputs": [
    {
     "output_type": "stream",
     "name": "stdout",
     "text": [
      "apple\nbanana\nmango\n"
     ]
    }
   ],
   "source": [
    "list1 = [\"apple\", \"banana\", \"mango\"]\n",
    "\n",
    "for i in list1:\n",
    "    print(i)"
   ]
  },
  {
   "source": [
    "## 2) WAP to find the length of string using simple for loop List1 (apple,banana,mango) "
   ],
   "cell_type": "markdown",
   "metadata": {}
  },
  {
   "cell_type": "code",
   "execution_count": 21,
   "metadata": {},
   "outputs": [
    {
     "output_type": "stream",
     "name": "stdout",
     "text": [
      "Length of apple is 5\nLength of banana is 6\nLength of mango is 5\n"
     ]
    }
   ],
   "source": [
    "list1 = [\"apple\", \"banana\", \"mango\"]\n",
    "\n",
    "for i in list1:\n",
    "    print(f\"Length of {i} is {len(i)}\")"
   ]
  },
  {
   "source": [
    "## 3) WAP to find particular string using simple for loop and simple if condition. "
   ],
   "cell_type": "markdown",
   "metadata": {}
  },
  {
   "cell_type": "code",
   "execution_count": 28,
   "metadata": {},
   "outputs": [
    {
     "output_type": "stream",
     "name": "stdout",
     "text": [
      "not not found in a quick brown fox jumps over a lazy dog\n"
     ]
    }
   ],
   "source": [
    "string = input(\"Enter string: \")\n",
    "word = input(\"Enter word you want to find from string: \")\n",
    "found = bool(False)\n",
    "\n",
    "for i in string:\n",
    "    if word in string:\n",
    "        found = True\n",
    "    else:\n",
    "        found = False\n",
    "\n",
    "if found:\n",
    "    print(word + \" found in \"+ string)\n",
    "else:\n",
    "    print(word + \" not found in \"+ string)"
   ]
  },
  {
   "source": [
    "## 4) Print this pattern using nested for Loop."
   ],
   "cell_type": "markdown",
   "metadata": {}
  },
  {
   "cell_type": "code",
   "execution_count": 8,
   "metadata": {},
   "outputs": [
    {
     "output_type": "stream",
     "name": "stdout",
     "text": [
      "\n\n* \n\n* \n* * \n\n* \n* * \n* * * \n\n* \n* * \n* * * \n* * * * \n\n* \n* * \n* * * \n* * * * \n* * * * * \n\n* \n* * \n* * * \n* * * * \n* * * * * \n* * * * * * \n\n* \n* * \n* * * \n* * * * \n* * * * * \n* * * * * * \n* * * * * * * \n\n* \n* * \n* * * \n* * * * \n* * * * * \n* * * * * * \n* * * * * * * \n* * * * * * * * \n"
     ]
    }
   ],
   "source": [
    "for i in range(10):\n",
    "    for j in range(i):\n",
    "        print('* '* j)"
   ]
  },
  {
   "source": [
    "## 1) W.A.P to skip the (Banana) from the list using Continue Statement List1 -(apple,banana,mango)"
   ],
   "cell_type": "markdown",
   "metadata": {}
  },
  {
   "cell_type": "code",
   "execution_count": 10,
   "metadata": {},
   "outputs": [
    {
     "output_type": "stream",
     "name": "stdout",
     "text": [
      "apple\nmango\n"
     ]
    }
   ],
   "source": [
    "lst = ['apple','banana','mango']\n",
    "\n",
    "for i in lst:\n",
    "    if(i == 'banana'):\n",
    "        continue\n",
    "    print(i)"
   ]
  },
  {
   "source": [
    "## 2) W.A.P to break the for loop when (Banana) get in if Condition."
   ],
   "cell_type": "markdown",
   "metadata": {}
  },
  {
   "cell_type": "code",
   "execution_count": 14,
   "metadata": {},
   "outputs": [
    {
     "output_type": "stream",
     "name": "stdout",
     "text": [
      "apple\n"
     ]
    }
   ],
   "source": [
    "lst = ['apple','banana','mango']\n",
    "\n",
    "for i in lst:\n",
    "    if(i == 'banana'):\n",
    "        break\n",
    "    print(i)"
   ]
  },
  {
   "source": [
    "## 1) W.A.P to print (Hello) using string"
   ],
   "cell_type": "markdown",
   "metadata": {}
  },
  {
   "cell_type": "code",
   "execution_count": 15,
   "metadata": {},
   "outputs": [
    {
     "output_type": "stream",
     "name": "stdout",
     "text": [
      "Hello abcd\n"
     ]
    }
   ],
   "source": [
    "name = input(\"Enter your name: \")\n",
    "print(\"Hello \"+name)"
   ]
  },
  {
   "source": [
    "## 2) W.A.P to allocate the string to a variable."
   ],
   "cell_type": "markdown",
   "metadata": {}
  },
  {
   "cell_type": "code",
   "execution_count": 16,
   "metadata": {},
   "outputs": [
    {
     "output_type": "stream",
     "name": "stdout",
     "text": [
      "abcd\n"
     ]
    }
   ],
   "source": [
    "var = input(\"Enter variable: \")\n",
    "name = var\n",
    "print(name)"
   ]
  },
  {
   "source": [
    "## 3) W.A.P to print String using three quotes."
   ],
   "cell_type": "markdown",
   "metadata": {}
  },
  {
   "cell_type": "code",
   "execution_count": 17,
   "metadata": {},
   "outputs": [
    {
     "output_type": "stream",
     "name": "stdout",
     "text": [
      "Twinkle Twinkle little star,\nHow I wonder, what you are,\nUp above the world so high,\nlike a diamond in the sky.\n\n"
     ]
    }
   ],
   "source": [
    "print(\"\"\"Twinkle Twinkle little star,\n",
    "How I wonder, what you are,\n",
    "Up above the world so high,\n",
    "like a diamond in the sky.\n",
    "\"\"\")"
   ]
  },
  {
   "source": [
    "## 4) W.A.P to access the 1st position character using index value."
   ],
   "cell_type": "markdown",
   "metadata": {}
  },
  {
   "cell_type": "code",
   "execution_count": 18,
   "metadata": {},
   "outputs": [
    {
     "output_type": "stream",
     "name": "stdout",
     "text": [
      "a\n"
     ]
    }
   ],
   "source": [
    "string = 'abcdefghijklmnopqrstuvwxyz'\n",
    "print(string[0])"
   ]
  },
  {
   "source": [
    "## 5) W.A.P to Access the string after the index value 1."
   ],
   "cell_type": "markdown",
   "metadata": {}
  },
  {
   "cell_type": "code",
   "execution_count": 20,
   "metadata": {},
   "outputs": [
    {
     "output_type": "stream",
     "name": "stdout",
     "text": [
      "bcdefghijklmnopqrstuvwxyz\n"
     ]
    }
   ],
   "source": [
    "string = 'abcdefghijklmnopqrstuvwxyz'\n",
    "print(string[1:])"
   ]
  },
  {
   "source": [
    "## 6) W.A.P to Access the string before the index value 5."
   ],
   "cell_type": "markdown",
   "metadata": {}
  },
  {
   "cell_type": "code",
   "execution_count": 21,
   "metadata": {},
   "outputs": [
    {
     "output_type": "stream",
     "name": "stdout",
     "text": [
      "abcde\n"
     ]
    }
   ],
   "source": [
    "string = 'abcdefghijklmnopqrstuvwxyz'\n",
    "print(string[:5])"
   ]
  },
  {
   "source": [
    "## 7) W.A.P to Access the String between the index value 1 to 4"
   ],
   "cell_type": "markdown",
   "metadata": {}
  },
  {
   "cell_type": "code",
   "execution_count": 23,
   "metadata": {},
   "outputs": [
    {
     "output_type": "stream",
     "name": "stdout",
     "text": [
      "bcd\n"
     ]
    }
   ],
   "source": [
    "string = 'abcdefghijklmnopqrstuvwxyz'\n",
    "print(string[1:4])"
   ]
  },
  {
   "source": [
    "## 8) W.A.P to print the string from the last index value."
   ],
   "cell_type": "markdown",
   "metadata": {}
  },
  {
   "cell_type": "code",
   "execution_count": 24,
   "metadata": {},
   "outputs": [
    {
     "output_type": "stream",
     "name": "stdout",
     "text": [
      "z\n"
     ]
    }
   ],
   "source": [
    "string = 'abcdefghijklmnopqrstuvwxyz'\n",
    "print(string[-1])"
   ]
  },
  {
   "source": [
    "## 9) W.A.P to print the String alternate character after the index value 1."
   ],
   "cell_type": "markdown",
   "metadata": {}
  },
  {
   "cell_type": "code",
   "execution_count": 25,
   "metadata": {},
   "outputs": [
    {
     "output_type": "stream",
     "name": "stdout",
     "text": [
      "bdfhjlnprtvxz\n"
     ]
    }
   ],
   "source": [
    "string = 'abcdefghijklmnopqrstuvwxyz'\n",
    "print(string[1::2])"
   ]
  },
  {
   "source": [
    "## 1) W.A.P create the list of multiple datatype element."
   ],
   "cell_type": "markdown",
   "metadata": {}
  },
  {
   "cell_type": "code",
   "execution_count": 28,
   "metadata": {},
   "outputs": [
    {
     "output_type": "stream",
     "name": "stdout",
     "text": [
      "['apple', 1, 'mango', 2, 'guava', 3]\n"
     ]
    }
   ],
   "source": [
    "lst = ['apple',1,'mango',2,'guava',3]\n",
    "print(lst)"
   ]
  },
  {
   "source": [
    "## 2) W.A.P to find the length of the list."
   ],
   "cell_type": "markdown",
   "metadata": {}
  },
  {
   "cell_type": "code",
   "execution_count": 29,
   "metadata": {},
   "outputs": [
    {
     "output_type": "stream",
     "name": "stdout",
     "text": [
      "6\n"
     ]
    }
   ],
   "source": [
    "lst = ['apple',1,'mango',2,'guava',3]\n",
    "print(len(lst))"
   ]
  },
  {
   "source": [
    "## 3) W.A.P to update the list using the insert() and append()"
   ],
   "cell_type": "markdown",
   "metadata": {}
  },
  {
   "cell_type": "code",
   "execution_count": 36,
   "metadata": {},
   "outputs": [
    {
     "output_type": "stream",
     "name": "stdout",
     "text": [
      "['apple', 1, 'mango', 2, 'guava', 3]\n['apple', 1, 'mango', 2, 'guava', 3, 'abcd']\n['apple', 1, 'mango', 2, 'guava', 3, 'abcd', 4]\n"
     ]
    }
   ],
   "source": [
    "lst = ['apple',1,'mango',2,'guava',3]\n",
    "print(lst)\n",
    "lst.insert(6,'abcd')\n",
    "print(lst)\n",
    "lst.append(4)\n",
    "print(lst)"
   ]
  },
  {
   "source": [
    "## 4) W.A.P to remove the element using the pop() and remove()"
   ],
   "cell_type": "markdown",
   "metadata": {}
  },
  {
   "cell_type": "code",
   "execution_count": 46,
   "metadata": {},
   "outputs": [
    {
     "output_type": "stream",
     "name": "stdout",
     "text": [
      "['apple', 1, 'mango', 2, 'guava', 3]\n['apple', 1, 'mango', 2, 'guava']\n[1, 'mango', 2, 'guava']\n"
     ]
    }
   ],
   "source": [
    "lst = ['apple',1,'mango',2,'guava',3]\n",
    "print(lst)\n",
    "lst.pop()li\n",
    "print(lst)\n",
    "lst.remove('apple')\n",
    "print(lst)"
   ]
  },
  {
   "source": [
    "## 1) W.A.P to access value on index value in the list"
   ],
   "cell_type": "markdown",
   "metadata": {}
  },
  {
   "cell_type": "code",
   "execution_count": 24,
   "metadata": {},
   "outputs": [
    {
     "output_type": "stream",
     "name": "stdout",
     "text": [
      "f\n"
     ]
    }
   ],
   "source": [
    "lst = ['a','b','c','d','e','f','g','h','i','j']\n",
    "index =  int(input(\"Enter index: \"))\n",
    "index_value(index,lst)\n",
    "\n",
    "def index_value(index, lst):\n",
    "    if index > len(lst) and index  < 0:\n",
    "        print(\"Index doesn't exist.\")\n",
    "    else:\n",
    "        print(lst[index])"
   ]
  },
  {
   "source": [
    "## 2) W.A.P to access the value after the index value 1."
   ],
   "cell_type": "markdown",
   "metadata": {}
  },
  {
   "cell_type": "code",
   "execution_count": 25,
   "metadata": {},
   "outputs": [
    {
     "output_type": "stream",
     "name": "stdout",
     "text": [
      "['b', 'c', 'd', 'e', 'f', 'g', 'h', 'i', 'j']\n"
     ]
    }
   ],
   "source": [
    "lst = ['a','b','c','d','e','f','g','h','i','j']\n",
    "\n",
    "print(lst[1:])"
   ]
  },
  {
   "source": [
    "## 3) W.A.P to access the value between 1 to 5"
   ],
   "cell_type": "markdown",
   "metadata": {}
  },
  {
   "cell_type": "code",
   "execution_count": 2,
   "metadata": {},
   "outputs": [
    {
     "output_type": "stream",
     "name": "stdout",
     "text": [
      "['b', 'c', 'd', 'e']\n"
     ]
    }
   ],
   "source": [
    "lst = ['a','b','c','d','e','f']\n",
    "print(lst[1:5])"
   ]
  },
  {
   "source": [
    "## 4) W.A.P to access the value till index 5."
   ],
   "cell_type": "markdown",
   "metadata": {}
  },
  {
   "cell_type": "code",
   "execution_count": 7,
   "metadata": {},
   "outputs": [
    {
     "output_type": "stream",
     "name": "stdout",
     "text": [
      "['a', 'b', 'c', 'd', 'e', 'f']\n"
     ]
    }
   ],
   "source": [
    "lst = ['a','b','c','d','e','f','g','h','i','j']\n",
    "print(lst[:6])"
   ]
  },
  {
   "source": [
    "## 5) W.A.P to update the list using the index value."
   ],
   "cell_type": "markdown",
   "metadata": {}
  },
  {
   "cell_type": "code",
   "execution_count": 13,
   "metadata": {},
   "outputs": [
    {
     "output_type": "stream",
     "name": "stdout",
     "text": [
      "['a', 'b', 'c', 'd', 'g', 'f']\n"
     ]
    }
   ],
   "source": [
    "lst = ['a','b','c','d','e','f']\n",
    "lst[4] = 'g'\n",
    "print(lst)"
   ]
  },
  {
   "source": [
    "## 6) W.A.P to irate the list using for loop."
   ],
   "cell_type": "markdown",
   "metadata": {}
  },
  {
   "cell_type": "code",
   "execution_count": 17,
   "metadata": {},
   "outputs": [
    {
     "output_type": "stream",
     "name": "stdout",
     "text": [
      "a b c d e "
     ]
    }
   ],
   "source": [
    "lst = ['a','b','c','d','e']\n",
    "for i in lst:\n",
    "    print(i, end=\" \")"
   ]
  },
  {
   "source": [
    "## 7) W.A.P to insert the value in empty list using for loop and append()."
   ],
   "cell_type": "markdown",
   "metadata": {}
  },
  {
   "cell_type": "code",
   "execution_count": 7,
   "metadata": {},
   "outputs": [
    {
     "output_type": "stream",
     "name": "stdout",
     "text": [
      "0 1 2 3 4 5 6 7 8 9 "
     ]
    }
   ],
   "source": [
    "lst = []\n",
    "for i in range(10):\n",
    "    lst.append(i)\n",
    "    print(lst[i], end=\" \")"
   ]
  },
  {
   "source": [
    "## 8) W.A.P to delete the element using del()"
   ],
   "cell_type": "markdown",
   "metadata": {}
  },
  {
   "cell_type": "code",
   "execution_count": 12,
   "metadata": {},
   "outputs": [
    {
     "output_type": "stream",
     "name": "stdout",
     "text": [
      "['a', 'b', 'c', 'd', 'e', 'f', 'g', 'h', 'i', 'j']\n['a', 'b', 'd', 'e', 'f', 'g', 'h', 'i', 'j']\n"
     ]
    }
   ],
   "source": [
    "lst = ['a','b','c','d','e','f','g','h','i','j']\n",
    "print(lst)\n",
    "del lst[2]\n",
    "print(lst)"
   ]
  },
  {
   "source": [
    "## 9) W.A.P to sort the list using sort() and sorted()"
   ],
   "cell_type": "markdown",
   "metadata": {}
  },
  {
   "cell_type": "code",
   "execution_count": 21,
   "metadata": {},
   "outputs": [
    {
     "output_type": "stream",
     "name": "stdout",
     "text": [
      "[0, 1, 2, 3, 5, 6, 7, 8, 9]\n"
     ]
    }
   ],
   "source": [
    "lst = [2,5,3,1,7,6,9,8,0]\n",
    "lst.sort()\n",
    "print(lst)"
   ]
  },
  {
   "cell_type": "code",
   "execution_count": 23,
   "metadata": {},
   "outputs": [
    {
     "output_type": "stream",
     "name": "stdout",
     "text": [
      "[0, 1, 2, 3, 5, 6, 7, 8, 9]\n"
     ]
    }
   ],
   "source": [
    "lst = [2,5,3,1,7,6,9,8,0]\n",
    "print(sorted(lst))"
   ]
  },
  {
   "source": [
    "## 10) W.A.P to round the value in list using round() and for loop."
   ],
   "cell_type": "markdown",
   "metadata": {}
  },
  {
   "cell_type": "code",
   "execution_count": null,
   "metadata": {},
   "outputs": [],
   "source": []
  }
 ]
}