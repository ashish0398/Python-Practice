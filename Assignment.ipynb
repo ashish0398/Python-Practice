{
 "metadata": {
  "language_info": {
   "codemirror_mode": {
    "name": "ipython",
    "version": 3
   },
   "file_extension": ".py",
   "mimetype": "text/x-python",
   "name": "python",
   "nbconvert_exporter": "python",
   "pygments_lexer": "ipython3",
   "version": "3.8.8"
  },
  "orig_nbformat": 2,
  "kernelspec": {
   "name": "python3",
   "display_name": "Python 3.8.8 64-bit",
   "metadata": {
    "interpreter": {
     "hash": "81c9ce6f424bab3be15193d373dba91a7f66b24fa2517aa727c9dc1af5a190e3"
    }
   }
  }
 },
 "nbformat": 4,
 "nbformat_minor": 2,
 "cells": [
  {
   "source": [
    "## What is Python, Name some of the features of Python.\n",
    "* Python is a interpreted scripting language\n",
    "* It is easy to learn\n",
    "* It is free and open source\n",
    "* It is a cross platform language\n",
    "* It is an interpreted language\n",
    "* It is an object oriented language"
   ],
   "cell_type": "markdown",
   "metadata": {}
  },
  {
   "source": [
    "## Write a Python program to get the Python version you are using?"
   ],
   "cell_type": "markdown",
   "metadata": {}
  },
  {
   "cell_type": "code",
   "execution_count": 7,
   "metadata": {},
   "outputs": [
    {
     "output_type": "stream",
     "name": "stdout",
     "text": [
      "Python version is: 3.9.1\n"
     ]
    }
   ],
   "source": [
    "from platform import python_version\n",
    "print(\"Python version is: \" + python_version())"
   ]
  },
  {
   "source": [
    "## Is python the right choice for Web based Programming?\n",
    "* Yes it is,because because it provides many web-application based framework like django, etc."
   ],
   "cell_type": "markdown",
   "metadata": {}
  },
  {
   "source": [
    "## Why was the language called as Python?\n",
    "* The founder of language Guido Van Russom needed a name for his language, He got the name from a very published script Monty Python's Flying Circus"
   ],
   "cell_type": "markdown",
   "metadata": {}
  },
  {
   "source": [
    "## Write a Python program to check if a number is positive, negative or zero."
   ],
   "cell_type": "markdown",
   "metadata": {}
  },
  {
   "cell_type": "code",
   "execution_count": 12,
   "metadata": {},
   "outputs": [
    {
     "output_type": "stream",
     "name": "stdout",
     "text": [
      "Number 2 is a positive number.\n"
     ]
    }
   ],
   "source": [
    "num = int(input(\"Enter a number: \"))\n",
    "if num < 0:\n",
    "    print(f\"Number {num} is a negative number.\")\n",
    "elif num > 0:\n",
    "    print(\"Number \" + str(num) + \" is a positive number.\")\n",
    "else:\n",
    "    print(\"Number \"+ str(num) + \" is a zero.\")"
   ]
  },
  {
   "source": [
    "## What is the language from which Python has got its features or derived its features?\n",
    "* Python language is derived from many other languages such as C, C++, JAVA, etc"
   ],
   "cell_type": "markdown",
   "metadata": {}
  },
  {
   "source": [
    "## Write a Python program to check if variable is of integer or string."
   ],
   "cell_type": "markdown",
   "metadata": {}
  },
  {
   "cell_type": "code",
   "execution_count": 20,
   "metadata": {},
   "outputs": [
    {
     "output_type": "stream",
     "name": "stdout",
     "text": [
      "It is string.\n"
     ]
    }
   ],
   "source": [
    "var = input(\"Enter data: \")\n",
    "if var.isdigit():\n",
    "    print(\"It is integer.\")\n",
    "else:\n",
    "    print(\"It is string.\")"
   ]
  },
  {
   "source": [
    "## Does python support switch or case statement in Python?\n",
    "* No it does not support switch-case statement, because this language has a proper mapping constructs."
   ],
   "cell_type": "markdown",
   "metadata": {}
  },
  {
   "source": [
    "## How Python is interpreted?\n",
    "* Python is an interpreted language, an interpreter is a different form of compiler, it executes code line by line."
   ],
   "cell_type": "markdown",
   "metadata": {}
  },
  {
   "source": [
    "## Write a Python program to get the Factorial number of given number"
   ],
   "cell_type": "markdown",
   "metadata": {}
  },
  {
   "cell_type": "code",
   "execution_count": 23,
   "metadata": {},
   "outputs": [
    {
     "output_type": "stream",
     "name": "stdout",
     "text": [
      "The factorial of 5 is 120\n"
     ]
    }
   ],
   "source": [
    "num = int(input(\"Enter a number: \"))  \n",
    "factorial = 1  \n",
    "if num < 0:  \n",
    "   print(\"Sorry, factorial does not exist for negative numbers\")  \n",
    "elif num == 0:  \n",
    "   print(\"The factorial of 0 is 1\")  \n",
    "else:  \n",
    "   for i in range(1,num + 1):  \n",
    "       factorial = factorial*i  \n",
    "   print(\"The factorial of\",num,\"is\",factorial)  "
   ]
  },
  {
   "cell_type": "code",
   "execution_count": 8,
   "metadata": {
    "tags": []
   },
   "outputs": [
    {
     "output_type": "stream",
     "name": "stdout",
     "text": [
      "0 1 1 2 3 5 8 "
     ]
    }
   ],
   "source": [
    "nterm = int(input(\"Enter the range: \"))\n",
    "n1 , n2 = 0, 1\n",
    "count = 0\n",
    "if nterm <= 0:\n",
    "    print(\"Enter an appropriate range.\")\n",
    "elif nterm == 1:\n",
    "    print(nterm)\n",
    "else:\n",
    "    while count < nterm:\n",
    "        print(n1, end=\" \")\n",
    "        nth = n1 + n2\n",
    "        n1 = n2\n",
    "        n2 = nth\n",
    "        count += 1"
   ]
  },
  {
   "source": [
    "## How memory is managed in Python?\n",
    "* Python creates its private heap, it contains all of its objects."
   ],
   "cell_type": "markdown",
   "metadata": {}
  },
  {
   "source": [
    "## What is namespace in Python?\n",
    "* A namespace is a system that has unique name for each and every object in Python."
   ],
   "cell_type": "markdown",
   "metadata": {}
  },
  {
   "source": [
    "## What is the purpose continue statement in python?\n",
    "* The continue statement is used to end current iteration of the loop and continue to next iteration."
   ],
   "cell_type": "markdown",
   "metadata": {}
  },
  {
   "source": [
    "## Write python program that swap two number with temp variable and without temp variable"
   ],
   "cell_type": "markdown",
   "metadata": {}
  },
  {
   "cell_type": "code",
   "execution_count": 15,
   "metadata": {},
   "outputs": [
    {
     "output_type": "stream",
     "name": "stdout",
     "text": [
      "Using 3rd variable\nBefore swapping a: 2 b: 4\nAfter swapping a: 4 b: 2\n\nWithout using 3rd variable\nBefore swapping a: 4 b: 2\nAfter swapping a: 2 b: 4\n"
     ]
    }
   ],
   "source": [
    "a = 2\n",
    "b = 4\n",
    "\n",
    "print(\"Using 3rd variable\")\n",
    "print(\"Before swapping a: \" + str(a)+ \" b: \" + str(b))\n",
    "temp = a\n",
    "a = b\n",
    "b = temp\n",
    "print(\"After swapping a: \" + str(a)+ \" b: \" + str(b))\n",
    "print()\n",
    "print(\"Without using 3rd variable\")\n",
    "print(\"Before swapping a: \" + str(a)+ \" b: \" + str(b))\n",
    "a = a + b\n",
    "b = a - b\n",
    "a = a - b\n",
    "print(\"After swapping a: \" + str(a)+ \" b: \" + str(b))\n"
   ]
  },
  {
   "source": [
    "## Write a Python program to find whether a given number is even or odd, print out an appropriate message to the user.\n"
   ],
   "cell_type": "markdown",
   "metadata": {}
  },
  {
   "cell_type": "code",
   "execution_count": 17,
   "metadata": {},
   "outputs": [
    {
     "output_type": "stream",
     "name": "stdout",
     "text": [
      "Number 3 is odd\n"
     ]
    }
   ],
   "source": [
    "num = int(input(\"Enter number:  \"))\n",
    "if num % 2 == 0:\n",
    "    print(f\"Number {num} is even\")\n",
    "else:\n",
    "    print(f\"Number {num} is odd\")"
   ]
  },
  {
   "source": [
    "## Write a Python program that compute the area of following\n",
    "## 1) Triangle (accepts base and height)\n",
    "## 2) Circle (accept radius)\n"
   ],
   "cell_type": "markdown",
   "metadata": {}
  },
  {
   "cell_type": "code",
   "execution_count": 19,
   "metadata": {},
   "outputs": [
    {
     "output_type": "stream",
     "name": "stdout",
     "text": [
      "Area of triangle is: 6.0\n"
     ]
    }
   ],
   "source": [
    "base = float(input(\"Enter base: \"))\n",
    "height = float(input(\"Enter height: \"))\n",
    "\n",
    "print(f\"Area of triangle is: {0.5*(base*height)}\")"
   ]
  },
  {
   "source": [
    "## Write a Python program to test whether a passed letter is a vowel or not."
   ],
   "cell_type": "markdown",
   "metadata": {}
  },
  {
   "cell_type": "code",
   "execution_count": 27,
   "metadata": {},
   "outputs": [
    {
     "output_type": "stream",
     "name": "stdout",
     "text": [
      "Passed letter 'o' is vowel.\n"
     ]
    }
   ],
   "source": [
    "char  = input(\"Enter character: \")\n",
    "\n",
    "if char == 'a' or char == 'e' or char == 'i' or char == 'o' or char == 'u':\n",
    "    print(\"Passed letter '\" + char + \"' is vowel.\") \n",
    "else:\n",
    "    print(\"Passed letter '\" + char + \"' is not a vowel.\") "
   ]
  },
  {
   "source": [
    "## Write a Python program to compute the value of a specified principal amount, rate of interest, and a number of years"
   ],
   "cell_type": "markdown",
   "metadata": {}
  },
  {
   "cell_type": "code",
   "execution_count": 28,
   "metadata": {},
   "outputs": [
    {
     "output_type": "stream",
     "name": "stdout",
     "text": [
      "Annual amount = 1000.0\n"
     ]
    }
   ],
   "source": [
    "principle_amount = float(input(\"Enter principal amount: \"))\n",
    "interest_rate = float(input(\"Enter rate of interest: \"))\n",
    "years = float(input(\"Enter number of years: \"))\n",
    "\n",
    "print(f\"Annual amount = {(principle_amount*interest_rate*years)/100}\")"
   ]
  },
  {
   "source": [
    "## What are the tools that help to find bugs or perform static analysis?\n",
    "* PyChecker and pylint are the tools that helps to find bugs or perform static analysis in python."
   ],
   "cell_type": "markdown",
   "metadata": {}
  },
  {
   "source": [
    "## What are Python decorators?\n",
    "* A decorator is a design pattern in Python that allows a user to add new functionality to an existing object without modifying its structure."
   ],
   "cell_type": "markdown",
   "metadata": {}
  },
  {
   "source": [
    "## What is PEP 8?\n",
    "* It is documentation that provides guidelines on how to write python code."
   ],
   "cell_type": "markdown",
   "metadata": {}
  },
  {
   "source": [
    "## Write a Python program to sort three integers without using conditional statements and loops."
   ],
   "cell_type": "markdown",
   "metadata": {}
  },
  {
   "cell_type": "code",
   "execution_count": 29,
   "metadata": {},
   "outputs": [
    {
     "output_type": "stream",
     "name": "stdout",
     "text": [
      "Numbers in sorted order:  4 6 8\n"
     ]
    }
   ],
   "source": [
    "x = int(input(\"Enter first number: \"))\n",
    "y = int(input(\"Enter second number: \"))\n",
    "z = int(input(\"Enter third number: \"))\n",
    "\n",
    "a1 = min(x, y, z)\n",
    "a3 = max(x, y, z)\n",
    "a2 = (x + y + z) - a1 - a3\n",
    "print(\"Numbers in sorted order: \", a1, a2, a3)"
   ]
  },
  {
   "source": [
    "## Write a Python program that accepts an integer (n) and computes the value of n+nn+nnn."
   ],
   "cell_type": "markdown",
   "metadata": {}
  },
  {
   "cell_type": "code",
   "execution_count": 31,
   "metadata": {},
   "outputs": [
    {
     "output_type": "stream",
     "name": "stdout",
     "text": [
      "100200300\n"
     ]
    }
   ],
   "source": [
    "a = int(input(\"Enter the number: \"))\n",
    "n1 = int( \"%s\" % a )\n",
    "n2 = int( \"%s%s\" % (a,a) )\n",
    "n3 = int( \"%s%s%s\" % (a,a,a) )\n",
    "print (n1+n2+n3)"
   ]
  },
  {
   "source": [
    "## Write a Python program to sum of three given integers. However, if two values are equal sum will be zero."
   ],
   "cell_type": "markdown",
   "metadata": {}
  },
  {
   "cell_type": "code",
   "execution_count": 37,
   "metadata": {},
   "outputs": [
    {
     "output_type": "stream",
     "name": "stdout",
     "text": [
      "The sum is 9\n"
     ]
    }
   ],
   "source": [
    "a = int(input(\"Enter first number: \"))\n",
    "b = int(input(\"Enter second number: \"))\n",
    "c = int(input(\"Enter third number: \"))\n",
    "\n",
    "if a == b or a == c:\n",
    "    print(\"The sum is 0\")\n",
    "elif b ==a or b == c:\n",
    "    print(\"The sum is 0\")\n",
    "else:\n",
    "    print(f\"The sum is {a+b+c}\")"
   ]
  },
  {
   "source": [
    "## Write a Python program that will return true if the two given integer values are equal or their sum or difference is 5."
   ],
   "cell_type": "markdown",
   "metadata": {}
  },
  {
   "cell_type": "code",
   "execution_count": 39,
   "metadata": {},
   "outputs": [
    {
     "output_type": "stream",
     "name": "stdout",
     "text": [
      "True\n"
     ]
    }
   ],
   "source": [
    "a = int(input(\"Enter first number: \"))\n",
    "b = int(input(\"Enter second number: \"))\n",
    "\n",
    "if a == b:\n",
    "    print(\"True\")\n",
    "elif (a+b) == 5:\n",
    "    print(\"True\")\n",
    "elif (a-b) == 5:\n",
    "    print(\"True\")"
   ]
  },
  {
   "source": [
    "## Write a python program to sum of the first n positive integers"
   ],
   "cell_type": "markdown",
   "metadata": {}
  },
  {
   "cell_type": "code",
   "execution_count": 40,
   "metadata": {},
   "outputs": [
    {
     "output_type": "stream",
     "name": "stdout",
     "text": [
      "36.0\n"
     ]
    }
   ],
   "source": [
    "num = int(input(\"Enter a number: \"))\n",
    "sum_num = (num * (num + 1)) / 2\n",
    "print(sum_num)"
   ]
  },
  {
   "source": [
    "## Write a Python program to calculate the length of a string."
   ],
   "cell_type": "markdown",
   "metadata": {}
  },
  {
   "cell_type": "code",
   "execution_count": 44,
   "metadata": {},
   "outputs": [
    {
     "output_type": "stream",
     "name": "stdout",
     "text": [
      "Length of a string is: 3\n"
     ]
    }
   ],
   "source": [
    "var = input(\"Enter string: \")\n",
    "count = 0\n",
    "for char in var:\n",
    "    count += 1\n",
    "\n",
    "print(f\"Length of a string is: {count}\")"
   ]
  },
  {
   "source": [
    "## Write a Python program to count the number of characters (character frequency) in a string"
   ],
   "cell_type": "markdown",
   "metadata": {}
  },
  {
   "cell_type": "code",
   "execution_count": 47,
   "metadata": {},
   "outputs": [
    {
     "output_type": "stream",
     "name": "stdout",
     "text": [
      "{'a': 2, 'b': 2, 'c': 2}\n"
     ]
    }
   ],
   "source": [
    "string = input(\"Enter string: \")\n",
    "freq = {}\n",
    "for i in string: \n",
    "    if i in freq: \n",
    "        freq[i] += 1\n",
    "    else: \n",
    "        freq[i] = 1\n",
    "print(str(freq))"
   ]
  },
  {
   "source": [
    "##  What are negative indexes and why are they used?\n",
    "* The negative index is used to remove any new-line spaces from the string and allow the string to except the last character"
   ],
   "cell_type": "markdown",
   "metadata": {}
  },
  {
   "source": [
    "## Explain split(), sub(), subn() methods of “re” module in Python.\n",
    "* split() - Split function, splits the string according the occurences of a pattern or character. And it returns the remaining part of the string.\n",
    "* sub() - It finds the substring from the given string. And return it.\n",
    "* subn() - It is similar to the sub() function, the only difference is tht it returns the output in tuples."
   ],
   "cell_type": "markdown",
   "metadata": {}
  },
  {
   "source": [
    "## Write a Python program to count occurrences of a substring in a string."
   ],
   "cell_type": "markdown",
   "metadata": {}
  },
  {
   "cell_type": "code",
   "execution_count": 52,
   "metadata": {},
   "outputs": [
    {
     "output_type": "stream",
     "name": "stdout",
     "text": [
      "\n1\n\n"
     ]
    }
   ],
   "source": [
    "string = \"Write a Python program to count occurrences of a substring in a string.\"\n",
    "print()\n",
    "print(string.count(\"Python\"))\n",
    "print()"
   ]
  },
  {
   "source": [
    "## Write a Python program to count the occurrences of each word in a given sentence"
   ],
   "cell_type": "markdown",
   "metadata": {}
  },
  {
   "cell_type": "code",
   "execution_count": 2,
   "metadata": {},
   "outputs": [
    {
     "output_type": "stream",
     "name": "stdout",
     "text": [
      "{'the': 2, 'quick': 1, 'brown': 1, 'fox': 1, 'jumps': 1, 'over': 1, 'lazy': 1, 'dog.': 1}\n"
     ]
    }
   ],
   "source": [
    "string = input(\"Enter string: \")\n",
    "counts = dict()\n",
    "words = string.split()\n",
    "\n",
    "for word in words:\n",
    "    if word in counts:\n",
    "        counts[word] += 1\n",
    "    else:\n",
    "        counts[word] = 1\n",
    "print(str(counts))"
   ]
  },
  {
   "source": [
    "## Write a Python program to get a single string from two given strings, separated by a space and swap the first two characters of each string."
   ],
   "cell_type": "markdown",
   "metadata": {}
  },
  {
   "cell_type": "code",
   "execution_count": 1,
   "metadata": {},
   "outputs": [
    {
     "output_type": "stream",
     "name": "stdout",
     "text": [
      "xyc abz\n"
     ]
    }
   ],
   "source": [
    "str1 = input(\"Enter string 1: \")\n",
    "str2 = input(\"Enter string 2: \")\n",
    "\n",
    "def merge_string(str1, str2):\n",
    "    new_str1 = str2[:2] + str1[2:]\n",
    "    new_str2 = str1[:2] + str2[2:]\n",
    "\n",
    "    return new_str1 + ' ' + new_str2\n",
    "print(merge_string(str1,str2))"
   ]
  },
  {
   "source": [
    "## Write a Python program to add 'ing' at the end of a given string (length should be at least 3). If the given string already ends with 'ing' then add 'ly' instead. If the string length of the given string is less than 3, leave it unchanged"
   ],
   "cell_type": "markdown",
   "metadata": {}
  },
  {
   "cell_type": "code",
   "execution_count": 9,
   "metadata": {},
   "outputs": [
    {
     "output_type": "stream",
     "name": "stdout",
     "text": [
      "abcding\n"
     ]
    }
   ],
   "source": [
    "string = input(\"Enter string: \")\n",
    "\n",
    "def add_string(string):\n",
    "    if len(string) > 3:\n",
    "        if string[-3:] == 'ing':\n",
    "           string += 'ly'\n",
    "        else:\n",
    "            string += 'ing'\n",
    "\n",
    "    return string\n",
    "\n",
    "print(add_string(string))"
   ]
  },
  {
   "source": [
    "## Write a Python program to find the first appearance of the substring 'not' and 'poor' from a given string, if 'not' follows the 'poor', replace the whole 'not'...'poor' substring with 'good'. Return the resulting string.\n"
   ],
   "cell_type": "markdown",
   "metadata": {}
  },
  {
   "cell_type": "code",
   "execution_count": null,
   "metadata": {},
   "outputs": [],
   "source": []
  }
 ]
}